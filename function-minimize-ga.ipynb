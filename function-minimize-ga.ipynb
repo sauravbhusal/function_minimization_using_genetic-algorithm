{
 "cells": [
  {
   "cell_type": "code",
   "execution_count": 111,
   "id": "1dec12e9",
   "metadata": {},
   "outputs": [],
   "source": [
    "import random\n",
    "import math\n",
    "import copy\n",
    "import os\n",
    "import matplotlib.pyplot as plt"
   ]
  },
  {
   "cell_type": "code",
   "execution_count": 112,
   "id": "cf5ea701",
   "metadata": {},
   "outputs": [],
   "source": [
    "# [x] fitness function\n",
    "# [x] population initialization\n",
    "# [x] crossover\n",
    "# [x] mutation"
   ]
  },
  {
   "cell_type": "code",
   "execution_count": 113,
   "id": "684b54e6",
   "metadata": {},
   "outputs": [],
   "source": [
    "def f(x, y):\n",
    "    return (x) ** 2 + (y) ** 2"
   ]
  },
  {
   "cell_type": "code",
   "execution_count": 114,
   "id": "9bf43cc9",
   "metadata": {},
   "outputs": [],
   "source": [
    "def random_between_m100_and_100(): \n",
    "    return (random.random() - 0.5) * 2 * 100"
   ]
  },
  {
   "cell_type": "code",
   "execution_count": 115,
   "id": "dcb40256",
   "metadata": {},
   "outputs": [],
   "source": [
    "def random_between_m5_and_5(): \n",
    "    return (random.random() - 0.5) * 2"
   ]
  },
  {
   "cell_type": "code",
   "execution_count": 116,
   "id": "addf97d7",
   "metadata": {},
   "outputs": [],
   "source": [
    "class Chromosome():\n",
    "    def __init__(self, _x, _y):\n",
    "        self.x = _x\n",
    "        self.y = _y\n",
    "\n",
    "    def __repr__(self):\n",
    "        return f\"(x={self.x:.2f}, y={self.y:2f})\""
   ]
  },
  {
   "cell_type": "code",
   "execution_count": 117,
   "id": "f508814b",
   "metadata": {},
   "outputs": [],
   "source": [
    "def fitness(chromosome):\n",
    "    return - f(chromosome.x, chromosome.y)"
   ]
  },
  {
   "cell_type": "code",
   "execution_count": 118,
   "id": "5e6eb3fe",
   "metadata": {},
   "outputs": [],
   "source": [
    "def initialize_population(n):\n",
    "    ret = []\n",
    "    for i in range(n):\n",
    "        _x = random_between_m100_and_100()\n",
    "        _y = random_between_m100_and_100()\n",
    "        chromosome = Chromosome(_x, _y)\n",
    "        ret.append(chromosome)\n",
    "    return ret"
   ]
  },
  {
   "cell_type": "code",
   "execution_count": 119,
   "id": "034bff40",
   "metadata": {},
   "outputs": [],
   "source": [
    "def crossover(chromosome_1, chromosome_2):\n",
    "    return Chromosome(\n",
    "        (chromosome_1.x + chromosome_2.x)/2,\n",
    "        (chromosome_1.y + chromosome_2.y)/2,\n",
    "     )"
   ]
  },
  {
   "cell_type": "code",
   "execution_count": 120,
   "id": "ec60d2cd",
   "metadata": {},
   "outputs": [],
   "source": [
    "def mutate(chromosome):\n",
    "    return Chromosome(\n",
    "        chromosome.x + random_between_m5_and_5(),\n",
    "        chromosome.y + random_between_m5_and_5(),\n",
    "    )"
   ]
  },
  {
   "cell_type": "code",
   "execution_count": 121,
   "id": "0b4cfbd7",
   "metadata": {},
   "outputs": [],
   "source": [
    "POPULATION_SIZE = 1000\n",
    "HOW_MANY_CHROMOSOMES_TO_SELECT = 500\n",
    "HOW_MANY_TO_GENERATE_BY_CROSSOVER = POPULATION_SIZE - HOW_MANY_CHROMOSOMES_TO_SELECT\n",
    "MUTATION_PROBABILITY = 0.05\n",
    "population = initialize_population(POPULATION_SIZE)"
   ]
  },
  {
   "cell_type": "code",
   "execution_count": 122,
   "id": "b8c8235e",
   "metadata": {},
   "outputs": [],
   "source": [
    "def genetic_algorithm_single_iteration(_population):\n",
    "    \n",
    "    # evaluate chromosomes\n",
    "    fitness_of_chromosomes = []\n",
    "    for chromosome in _population:\n",
    "        fitness_of_chromosomes.append(fitness(chromosome))\n",
    "\n",
    "    # select good chromosomes\n",
    "    cutoff_fitness = sorted(fitness_of_chromosomes, reverse=True)[HOW_MANY_CHROMOSOMES_TO_SELECT]\n",
    "    selected_chromosomes = []\n",
    "    for chromosome, _fitness in zip(_population, fitness_of_chromosomes):\n",
    "        if (_fitness >= cutoff_fitness):\n",
    "            selected_chromosomes.append(chromosome)\n",
    "\n",
    "    # crossover\n",
    "    offsprings = []\n",
    "    for j in range(HOW_MANY_TO_GENERATE_BY_CROSSOVER):\n",
    "        sampled_chromosomes = random.sample(_population, 2)\n",
    "        offspring = crossover(sampled_chromosomes[0], sampled_chromosomes[1])\n",
    "        offsprings.append(offspring)\n",
    "    \n",
    "    _population = selected_chromosomes + offsprings\n",
    "\n",
    "    # mutation\n",
    "    final_population = []\n",
    "    for chromosome in _population:\n",
    "        if random.random() < MUTATION_PROBABILITY:\n",
    "            final_population.append(mutate(chromosome))\n",
    "        else:\n",
    "            final_population.append(chromosome)\n",
    "    \n",
    "    _population = final_population\n",
    "    return _population"
   ]
  },
  {
   "cell_type": "code",
   "execution_count": 109,
   "id": "44f2c895",
   "metadata": {},
   "outputs": [],
   "source": [
    "for i in range(100):\n",
    "    population = genetic_algorithm_single_iteration(copy.deepcopy(population))"
   ]
  },
  {
   "cell_type": "code",
   "execution_count": 123,
   "id": "5e918ac7",
   "metadata": {},
   "outputs": [
    {
     "data": {
      "image/png": "[encoded data removed]",
      "text/plain": [
       "<Figure size 432x288 with 1 Axes>"
      ]
     },
     "metadata": {
      "needs_background": "light"
     },
     "output_type": "display_data"
    }
   ],
   "source": [
    "x = [c.x for c in population]\n",
    "y = [c.y for c in population]\n",
    "plt.scatter(x, y)\n",
    "plt.scatter(0, 0, marker=\"x\")\n",
    "#plt.scatter(5, 2, marker=\"x\")\n",
    "plt.xlim(-10, 10)\n",
    "plt.ylim(-10, 10)\n",
    "population = genetic_algorithm_single_iteration(copy.deepcopy(population))"
   ]
  },
  {
   "cell_type": "code",
   "execution_count": 586,
   "id": "a822e94c",
   "metadata": {},
   "outputs": [
    {
     "data": {
      "text/plain": [
       "[(x=4.42, y=-28.432435),\n",
       " (x=4.87, y=-29.450104),\n",
       " (x=7.93, y=-31.858031),\n",
       " (x=4.91, y=-30.174227),\n",
       " (x=6.81, y=-27.386437),\n",
       " (x=4.60, y=-24.884120),\n",
       " (x=5.54, y=-32.542489),\n",
       " (x=5.86, y=-31.541827),\n",
       " (x=5.51, y=-31.158410),\n",
       " (x=5.59, y=-31.969878)]"
      ]
     },
     "execution_count": 586,
     "metadata": {},
     "output_type": "execute_result"
    }
   ],
   "source": [
    "#population"
   ]
  },
  {
   "cell_type": "code",
   "execution_count": null,
   "id": "90e65a5b",
   "metadata": {},
   "outputs": [],
   "source": []
  },
  {
   "cell_type": "code",
   "execution_count": 204,
   "id": "dcd57b82",
   "metadata": {},
   "outputs": [
    {
     "name": "stdout",
     "output_type": "stream",
     "text": [
      "0 10\n",
      "1 11\n",
      "2 12\n",
      "3 13\n",
      "4 14\n",
      "5 15\n",
      "6 16\n",
      "7 17\n",
      "8 18\n",
      "9 19\n"
     ]
    }
   ],
   "source": [
    "#for i, j in zip(range(10), range(10, 20)):\n",
    " #   print(i, j)"
   ]
  }
 ],
 "metadata": {
  "kernelspec": {
   "display_name": "Python 3 (ipykernel)",
   "language": "python",
   "name": "python3"
  },
  "language_info": {
   "codemirror_mode": {
    "name": "ipython",
    "version": 3
   },
   "file_extension": ".py",
   "mimetype": "text/x-python",
   "name": "python",
   "nbconvert_exporter": "python",
   "pygments_lexer": "ipython3",
   "version": "3.8.10"
  }
 },
 "nbformat": 4,
 "nbformat_minor": 5
}
